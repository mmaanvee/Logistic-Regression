{
 "cells": [
  {
   "cell_type": "code",
   "execution_count": 1,
   "metadata": {
    "id": "iwjw3Wl9BKki"
   },
   "outputs": [],
   "source": [
    "import pandas as pd\n",
    "import statsmodels.api as sm\n",
    "import numpy as np\n",
    "import matplotlib as mp\n",
    "import matplotlib.pyplot as plt\n",
    "import seaborn as sns\n",
    "import statsmodels.api as sm\n",
    "from sklearn.model_selection import train_test_split\n",
    "from statsmodels.stats.multitest import multipletests\n",
    "from sklearn.preprocessing import StandardScaler\n",
    "from sklearn.linear_model import LogisticRegression, LinearRegression\n",
    "from sklearn.metrics import accuracy_score,classification_report,mean_squared_error,confusion_matrix,r2_score"
   ]
  },
  {
   "cell_type": "markdown",
   "metadata": {},
   "source": [
    "#### **Dataset Description**:\n",
    "\n",
    "#### The Breast Cancer Dataset contains features computed from a digitized image of a fine needle aspirate of a breast mass. The goal is to classify whether cancer is malignant or benign.\n"
   ]
  },
  {
   "cell_type": "code",
   "execution_count": 2,
   "metadata": {
    "colab": {
     "base_uri": "https://localhost:8080/",
     "height": 273
    },
    "id": "leB8OokjrvIY",
    "outputId": "825d8ebd-79c5-4c6a-c76a-129772f0a724"
   },
   "outputs": [
    {
     "data": {
      "text/html": [
       "<div>\n",
       "<style scoped>\n",
       "    .dataframe tbody tr th:only-of-type {\n",
       "        vertical-align: middle;\n",
       "    }\n",
       "\n",
       "    .dataframe tbody tr th {\n",
       "        vertical-align: top;\n",
       "    }\n",
       "\n",
       "    .dataframe thead th {\n",
       "        text-align: right;\n",
       "    }\n",
       "</style>\n",
       "<table border=\"1\" class=\"dataframe\">\n",
       "  <thead>\n",
       "    <tr style=\"text-align: right;\">\n",
       "      <th></th>\n",
       "      <th>id</th>\n",
       "      <th>diagnosis</th>\n",
       "      <th>radius_mean</th>\n",
       "      <th>texture_mean</th>\n",
       "      <th>perimeter_mean</th>\n",
       "      <th>area_mean</th>\n",
       "      <th>smoothness_mean</th>\n",
       "      <th>compactness_mean</th>\n",
       "      <th>concavity_mean</th>\n",
       "      <th>concave points_mean</th>\n",
       "      <th>...</th>\n",
       "      <th>texture_worst</th>\n",
       "      <th>perimeter_worst</th>\n",
       "      <th>area_worst</th>\n",
       "      <th>smoothness_worst</th>\n",
       "      <th>compactness_worst</th>\n",
       "      <th>concavity_worst</th>\n",
       "      <th>concave points_worst</th>\n",
       "      <th>symmetry_worst</th>\n",
       "      <th>fractal_dimension_worst</th>\n",
       "      <th>Unnamed: 32</th>\n",
       "    </tr>\n",
       "  </thead>\n",
       "  <tbody>\n",
       "    <tr>\n",
       "      <th>0</th>\n",
       "      <td>842302</td>\n",
       "      <td>M</td>\n",
       "      <td>17.99</td>\n",
       "      <td>10.38</td>\n",
       "      <td>122.80</td>\n",
       "      <td>1001.0</td>\n",
       "      <td>0.11840</td>\n",
       "      <td>0.27760</td>\n",
       "      <td>0.3001</td>\n",
       "      <td>0.14710</td>\n",
       "      <td>...</td>\n",
       "      <td>17.33</td>\n",
       "      <td>184.60</td>\n",
       "      <td>2019.0</td>\n",
       "      <td>0.1622</td>\n",
       "      <td>0.6656</td>\n",
       "      <td>0.7119</td>\n",
       "      <td>0.2654</td>\n",
       "      <td>0.4601</td>\n",
       "      <td>0.11890</td>\n",
       "      <td>NaN</td>\n",
       "    </tr>\n",
       "    <tr>\n",
       "      <th>1</th>\n",
       "      <td>842517</td>\n",
       "      <td>M</td>\n",
       "      <td>20.57</td>\n",
       "      <td>17.77</td>\n",
       "      <td>132.90</td>\n",
       "      <td>1326.0</td>\n",
       "      <td>0.08474</td>\n",
       "      <td>0.07864</td>\n",
       "      <td>0.0869</td>\n",
       "      <td>0.07017</td>\n",
       "      <td>...</td>\n",
       "      <td>23.41</td>\n",
       "      <td>158.80</td>\n",
       "      <td>1956.0</td>\n",
       "      <td>0.1238</td>\n",
       "      <td>0.1866</td>\n",
       "      <td>0.2416</td>\n",
       "      <td>0.1860</td>\n",
       "      <td>0.2750</td>\n",
       "      <td>0.08902</td>\n",
       "      <td>NaN</td>\n",
       "    </tr>\n",
       "    <tr>\n",
       "      <th>2</th>\n",
       "      <td>84300903</td>\n",
       "      <td>M</td>\n",
       "      <td>19.69</td>\n",
       "      <td>21.25</td>\n",
       "      <td>130.00</td>\n",
       "      <td>1203.0</td>\n",
       "      <td>0.10960</td>\n",
       "      <td>0.15990</td>\n",
       "      <td>0.1974</td>\n",
       "      <td>0.12790</td>\n",
       "      <td>...</td>\n",
       "      <td>25.53</td>\n",
       "      <td>152.50</td>\n",
       "      <td>1709.0</td>\n",
       "      <td>0.1444</td>\n",
       "      <td>0.4245</td>\n",
       "      <td>0.4504</td>\n",
       "      <td>0.2430</td>\n",
       "      <td>0.3613</td>\n",
       "      <td>0.08758</td>\n",
       "      <td>NaN</td>\n",
       "    </tr>\n",
       "    <tr>\n",
       "      <th>3</th>\n",
       "      <td>84348301</td>\n",
       "      <td>M</td>\n",
       "      <td>11.42</td>\n",
       "      <td>20.38</td>\n",
       "      <td>77.58</td>\n",
       "      <td>386.1</td>\n",
       "      <td>0.14250</td>\n",
       "      <td>0.28390</td>\n",
       "      <td>0.2414</td>\n",
       "      <td>0.10520</td>\n",
       "      <td>...</td>\n",
       "      <td>26.50</td>\n",
       "      <td>98.87</td>\n",
       "      <td>567.7</td>\n",
       "      <td>0.2098</td>\n",
       "      <td>0.8663</td>\n",
       "      <td>0.6869</td>\n",
       "      <td>0.2575</td>\n",
       "      <td>0.6638</td>\n",
       "      <td>0.17300</td>\n",
       "      <td>NaN</td>\n",
       "    </tr>\n",
       "    <tr>\n",
       "      <th>4</th>\n",
       "      <td>84358402</td>\n",
       "      <td>M</td>\n",
       "      <td>20.29</td>\n",
       "      <td>14.34</td>\n",
       "      <td>135.10</td>\n",
       "      <td>1297.0</td>\n",
       "      <td>0.10030</td>\n",
       "      <td>0.13280</td>\n",
       "      <td>0.1980</td>\n",
       "      <td>0.10430</td>\n",
       "      <td>...</td>\n",
       "      <td>16.67</td>\n",
       "      <td>152.20</td>\n",
       "      <td>1575.0</td>\n",
       "      <td>0.1374</td>\n",
       "      <td>0.2050</td>\n",
       "      <td>0.4000</td>\n",
       "      <td>0.1625</td>\n",
       "      <td>0.2364</td>\n",
       "      <td>0.07678</td>\n",
       "      <td>NaN</td>\n",
       "    </tr>\n",
       "  </tbody>\n",
       "</table>\n",
       "<p>5 rows × 33 columns</p>\n",
       "</div>"
      ],
      "text/plain": [
       "         id diagnosis  radius_mean  texture_mean  perimeter_mean  area_mean  \\\n",
       "0    842302         M        17.99         10.38          122.80     1001.0   \n",
       "1    842517         M        20.57         17.77          132.90     1326.0   \n",
       "2  84300903         M        19.69         21.25          130.00     1203.0   \n",
       "3  84348301         M        11.42         20.38           77.58      386.1   \n",
       "4  84358402         M        20.29         14.34          135.10     1297.0   \n",
       "\n",
       "   smoothness_mean  compactness_mean  concavity_mean  concave points_mean  \\\n",
       "0          0.11840           0.27760          0.3001              0.14710   \n",
       "1          0.08474           0.07864          0.0869              0.07017   \n",
       "2          0.10960           0.15990          0.1974              0.12790   \n",
       "3          0.14250           0.28390          0.2414              0.10520   \n",
       "4          0.10030           0.13280          0.1980              0.10430   \n",
       "\n",
       "   ...  texture_worst  perimeter_worst  area_worst  smoothness_worst  \\\n",
       "0  ...          17.33           184.60      2019.0            0.1622   \n",
       "1  ...          23.41           158.80      1956.0            0.1238   \n",
       "2  ...          25.53           152.50      1709.0            0.1444   \n",
       "3  ...          26.50            98.87       567.7            0.2098   \n",
       "4  ...          16.67           152.20      1575.0            0.1374   \n",
       "\n",
       "   compactness_worst  concavity_worst  concave points_worst  symmetry_worst  \\\n",
       "0             0.6656           0.7119                0.2654          0.4601   \n",
       "1             0.1866           0.2416                0.1860          0.2750   \n",
       "2             0.4245           0.4504                0.2430          0.3613   \n",
       "3             0.8663           0.6869                0.2575          0.6638   \n",
       "4             0.2050           0.4000                0.1625          0.2364   \n",
       "\n",
       "   fractal_dimension_worst  Unnamed: 32  \n",
       "0                  0.11890          NaN  \n",
       "1                  0.08902          NaN  \n",
       "2                  0.08758          NaN  \n",
       "3                  0.17300          NaN  \n",
       "4                  0.07678          NaN  \n",
       "\n",
       "[5 rows x 33 columns]"
      ]
     },
     "execution_count": 2,
     "metadata": {},
     "output_type": "execute_result"
    }
   ],
   "source": [
    "# read file\n",
    "can = pd.read_csv('Cancer.csv')\n",
    "can.head() #view the csv"
   ]
  },
  {
   "cell_type": "markdown",
   "metadata": {},
   "source": [
    "**Cleaning the Dataset by checking for any nissing vlaues and removing unamed columns**"
   ]
  },
  {
   "cell_type": "code",
   "execution_count": 3,
   "metadata": {
    "id": "yDxIBQq9-ghw"
   },
   "outputs": [],
   "source": [
    "can= can.drop(columns= ['id']) #drop id\n",
    "can.dropna()\n",
    "can = can.loc[:, ~can.columns.str.contains('^Unnamed')]"
   ]
  },
  {
   "cell_type": "code",
   "execution_count": 4,
   "metadata": {
    "id": "a0J6sf1ArvNx"
   },
   "outputs": [
    {
     "data": {
      "text/plain": [
       "diagnosis                  0\n",
       "radius_mean                0\n",
       "texture_mean               0\n",
       "perimeter_mean             0\n",
       "area_mean                  0\n",
       "smoothness_mean            0\n",
       "compactness_mean           0\n",
       "concavity_mean             0\n",
       "concave points_mean        0\n",
       "symmetry_mean              0\n",
       "fractal_dimension_mean     0\n",
       "radius_se                  0\n",
       "texture_se                 0\n",
       "perimeter_se               0\n",
       "area_se                    0\n",
       "smoothness_se              0\n",
       "compactness_se             0\n",
       "concavity_se               0\n",
       "concave points_se          0\n",
       "symmetry_se                0\n",
       "fractal_dimension_se       0\n",
       "radius_worst               0\n",
       "texture_worst              0\n",
       "perimeter_worst            0\n",
       "area_worst                 0\n",
       "smoothness_worst           0\n",
       "compactness_worst          0\n",
       "concavity_worst            0\n",
       "concave points_worst       0\n",
       "symmetry_worst             0\n",
       "fractal_dimension_worst    0\n",
       "dtype: int64"
      ]
     },
     "execution_count": 4,
     "metadata": {},
     "output_type": "execute_result"
    }
   ],
   "source": [
    "# check na values\n",
    "can.isna().sum()\n",
    "# there is no null values"
   ]
  },
  {
   "cell_type": "markdown",
   "metadata": {
    "id": "O3igmSxJts2I"
   },
   "source": [
    "1. **Data Exploration and Visualization** "
   ]
  },
  {
   "cell_type": "code",
   "execution_count": 5,
   "metadata": {
    "colab": {
     "base_uri": "https://localhost:8080/",
     "height": 487
    },
    "id": "ovuz-oJ5r2vm",
    "outputId": "d023fd63-b29a-4b27-8d74-645f1950713e"
   },
   "outputs": [
    {
     "data": {
      "image/png": "[encoded data removed]",
      "text/plain": [
       "<Figure size 720x360 with 1 Axes>"
      ]
     },
     "metadata": {
      "needs_background": "light"
     },
     "output_type": "display_data"
    }
   ],
   "source": [
    "# barchart for diagnosis\n",
    "diagnosis_counts = can['diagnosis'].value_counts()\n",
    "plt.figure(figsize=(10, 5))\n",
    "plt.bar(diagnosis_counts.index, diagnosis_counts, color=['skyblue', 'red'], edgecolor='black', alpha=0.9)\n",
    "plt.title('Bar Chart of the Dependent Variable Diagnosis')\n",
    "plt.xlabel('Malignant/Benign')\n",
    "plt.ylabel('Frequency')\n",
    "plt.show()"
   ]
  },
  {
   "cell_type": "markdown",
   "metadata": {
    "id": "UyDJ96iGtzql"
   },
   "source": [
    "#### Interpretations: Majority of the breast cancer diagonsis are benign. In this sample, about 350 cancers are Benign, and about 200 cancers are Malignant."
   ]
  },
  {
   "cell_type": "code",
   "execution_count": 6,
   "metadata": {
    "colab": {
     "base_uri": "https://localhost:8080/",
     "height": 465
    },
    "id": "PrBgvytSr3V7",
    "outputId": "1fa69a6e-0eff-4ab7-f0c8-6c5f85b98265"
   },
   "outputs": [
    {
     "data": {
      "image/png": "[encoded data removed]",
      "text/plain": [
       "<Figure size 720x432 with 1 Axes>"
      ]
     },
     "metadata": {
      "needs_background": "light"
     },
     "output_type": "display_data"
    }
   ],
   "source": [
    "# scatter plot of radius mean vs. area_mean\n",
    "plt.figure(figsize=(10, 6))\n",
    "sns.scatterplot(data=can, x='radius_mean', y='area_mean', hue='diagnosis')\n",
    "plt.xlabel('Radius Mean')\n",
    "plt.ylabel('Area Mean')\n",
    "plt.title('Scatter Plot of Radius Mean vs Area Mean Colored by Diagnosis')\n",
    "plt.show()"
   ]
  },
  {
   "cell_type": "markdown",
   "metadata": {
    "id": "PjjzpvVwuKT1"
   },
   "source": [
    "#### Interpretations: Maglignant Tumors have the Radius Mean and Area Mean are both higher as compared for Beign Tumors in Breast Cancer."
   ]
  },
  {
   "cell_type": "code",
   "execution_count": 7,
   "metadata": {
    "colab": {
     "base_uri": "https://localhost:8080/",
     "height": 465
    },
    "id": "4o4vl-Oi1Kt0",
    "outputId": "e1cda016-1984-4d7e-9f37-7d83711a6fa2"
   },
   "outputs": [
    {
     "data": {
      "image/png": "[encoded data removed]",
      "text/plain": [
       "<Figure size 720x360 with 1 Axes>"
      ]
     },
     "metadata": {
      "needs_background": "light"
     },
     "output_type": "display_data"
    }
   ],
   "source": [
    "# box plot of texture mean vs. diagnosis\n",
    "plt.figure(figsize=(10, 5))\n",
    "plt.boxplot([can[can['diagnosis']=='M']['texture_mean'], can[can['diagnosis']=='B']['texture_mean']], labels=['Malignant', 'Benign'], notch=True, vert=True, patch_artist=True)\n",
    "plt.xlabel('Diagnosis')\n",
    "plt.ylabel('Texture Mean')\n",
    "plt.title('Box Plot of Texture Mean by Diagnosis')\n",
    "plt.show()"
   ]
  },
  {
   "cell_type": "markdown",
   "metadata": {
    "id": "Z8PekERjucI5"
   },
   "source": [
    "#### Interpretations: The box plot shows Maglinant and Benign both have high texture mean but the mean for Malignant is higher than Benign tumors for breat cancer. "
   ]
  },
  {
   "cell_type": "code",
   "execution_count": 8,
   "metadata": {},
   "outputs": [
    {
     "data": {
      "image/png": "[encoded data removed]",
      "text/plain": [
       "<Figure size 1080x720 with 6 Axes>"
      ]
     },
     "metadata": {
      "needs_background": "light"
     },
     "output_type": "display_data"
    }
   ],
   "source": [
    "## Some interesting features to look at\n",
    "features = ['radius_mean', 'texture_mean', 'perimeter_mean', 'area_mean', 'smoothness_mean']\n",
    "\n",
    "# Histograms for the selected features\n",
    "can[features].hist(bins=15, figsize=(15, 10))\n",
    "plt.suptitle('Histograms of Selected Features')\n",
    "plt.show()"
   ]
  },
  {
   "cell_type": "markdown",
   "metadata": {},
   "source": [
    "#### Interpretations: Examining of the features with respect to both tumors is really important for the analysis and I came across that the radius_mean, area_mean, perimeter_mean, texture_mean, and smoothness_mean exhibit right/positive skewness.  "
   ]
  },
  {
   "cell_type": "code",
   "execution_count": 9,
   "metadata": {
    "colab": {
     "base_uri": "https://localhost:8080/",
     "height": 465
    },
    "id": "cX1uAPsA1LOX",
    "outputId": "528f1d6a-0eb7-43df-9a5e-d0ec1dfd9b72"
   },
   "outputs": [
    {
     "data": {
      "image/png": "[encoded data removed]",
      "text/plain": [
       "<Figure size 720x360 with 1 Axes>"
      ]
     },
     "metadata": {
      "needs_background": "light"
     },
     "output_type": "display_data"
    }
   ],
   "source": [
    "# box plot of smoothness_mean vs. diagnosis\n",
    "plt.figure(figsize=(10, 5))\n",
    "plt.boxplot([can[can['diagnosis']=='M']['smoothness_mean'], can[can['diagnosis']=='B']['texture_mean']], labels=['Malignant', 'Benign'], notch=True, vert=True, patch_artist=True)\n",
    "plt.xlabel('Diagnosis')\n",
    "plt.ylabel('Smoothness Mean')\n",
    "plt.title('Box Plot of Smoothnes Mean by Diagnosis')\n",
    "plt.show()"
   ]
  },
  {
   "cell_type": "markdown",
   "metadata": {
    "id": "vPk0KxdiujdR"
   },
   "source": [
    "### Interpretation: The barplot clearly shows that Benign Tumor has higher smoothness mean in comparison to the Malignant Tumor for the breast cancer sample. "
   ]
  },
  {
   "cell_type": "code",
   "execution_count": 10,
   "metadata": {
    "colab": {
     "base_uri": "https://localhost:8080/",
     "height": 465
    },
    "id": "V9uDs3DK1PSX",
    "outputId": "be47ffe0-5136-4c57-c481-59814d223be3"
   },
   "outputs": [
    {
     "data": {
      "image/png": "[encoded data removed]",
      "text/plain": [
       "<Figure size 720x360 with 1 Axes>"
      ]
     },
     "metadata": {
      "needs_background": "light"
     },
     "output_type": "display_data"
    }
   ],
   "source": [
    "#box plot of radius_worst vs. diagnosis\n",
    "plt.figure(figsize=(10, 5))\n",
    "plt.boxplot([can[can['diagnosis']=='M']['radius_worst'], can[can['diagnosis']=='B']['texture_mean']], labels=['Malignant', 'Benign'], notch=True, vert=True, patch_artist=True)\n",
    "plt.xlabel('Diagnosis')\n",
    "plt.ylabel('Radius Worst')\n",
    "plt.title('Box Plot of Radius Worst by Diagnosis')\n",
    "plt.show()"
   ]
  },
  {
   "cell_type": "markdown",
   "metadata": {
    "id": "auTGCH0auleT"
   },
   "source": [
    "### Interpretation: The box plot shows that as the radius of tumor at its worst state increases, the tumor is more likely to be malignant."
   ]
  },
  {
   "cell_type": "code",
   "execution_count": 11,
   "metadata": {
    "colab": {
     "base_uri": "https://localhost:8080/",
     "height": 465
    },
    "id": "rW7boHUh1fHk",
    "outputId": "cb8d161b-5838-48ab-a670-19d70edc05c4"
   },
   "outputs": [
    {
     "data": {
      "image/png": "[encoded data removed]",
      "text/plain": [
       "<Figure size 720x360 with 1 Axes>"
      ]
     },
     "metadata": {
      "needs_background": "light"
     },
     "output_type": "display_data"
    }
   ],
   "source": [
    "#box plot of area_worst vs. diagnosis\n",
    "plt.figure(figsize=(10, 5))\n",
    "plt.boxplot([can[can['diagnosis']=='M']['area_worst'], can[can['diagnosis']=='B']['texture_mean']], labels=['Malignant', 'Benign'], notch=True, vert=True, patch_artist=True)\n",
    "plt.xlabel('Diagnosis')\n",
    "plt.ylabel('Area Worst')\n",
    "plt.title('Box Plot of Area Worst by Diagnosis')\n",
    "plt.show()"
   ]
  },
  {
   "cell_type": "markdown",
   "metadata": {
    "id": "EXOSNrYfuqe1"
   },
   "source": [
    "### Interpretation: The box plot indicates that if the area is larger in size, it is most likely to be Maglinant Tumor and less likely to be Benign Tumor. "
   ]
  },
  {
   "cell_type": "code",
   "execution_count": 12,
   "metadata": {
    "colab": {
     "base_uri": "https://localhost:8080/",
     "height": 465
    },
    "id": "b4VUmKIG1grT",
    "outputId": "a947f98d-d522-4496-b6f2-a8caa77b22bc"
   },
   "outputs": [
    {
     "data": {
      "image/png": "[encoded data removed]",
      "text/plain": [
       "<Figure size 720x360 with 1 Axes>"
      ]
     },
     "metadata": {
      "needs_background": "light"
     },
     "output_type": "display_data"
    }
   ],
   "source": [
    "#box plot of texture_worst vs. diagnosis\n",
    "plt.figure(figsize=(10, 5))\n",
    "plt.boxplot([can[can['diagnosis']=='M']['texture_worst'], can[can['diagnosis']=='B']['texture_mean']], labels=['Malignant', 'Benign'], notch=True, vert=True, patch_artist=True)\n",
    "plt.xlabel('Diagnosis')\n",
    "plt.ylabel('Texture Worst')\n",
    "plt.title('Box Plot of Texture Worst by Diagnosis')\n",
    "plt.show()"
   ]
  },
  {
   "cell_type": "markdown",
   "metadata": {
    "id": "ufxaSMCmuwyv"
   },
   "source": [
    "### Interpretation: The box plot shows that as the texture of tumor at its worst state increases,and when it does, the tumor is more likely to be malignan than benign."
   ]
  },
  {
   "cell_type": "code",
   "execution_count": 13,
   "metadata": {
    "colab": {
     "base_uri": "https://localhost:8080/",
     "height": 564
    },
    "id": "g9Xbjojh_I08",
    "outputId": "bf48fd68-4bc0-4afe-eb89-4eb01ab99bbd"
   },
   "outputs": [
    {
     "data": {
      "image/png": "[encoded data removed]",
      "text/plain": [
       "<Figure size 720x432 with 1 Axes>"
      ]
     },
     "metadata": {
      "needs_background": "light"
     },
     "output_type": "display_data"
    }
   ],
   "source": [
    "plt.figure(figsize=(10, 6))\n",
    "sns.scatterplot(data=can, x='radius_mean', y='texture_mean', hue='diagnosis')\n",
    "plt.xlabel('Radius Mean')\n",
    "plt.ylabel('Texture Mean')\n",
    "plt.title('Scatter Plot of Radius Mean vs Texture Mean Colored by Diagnosis')\n",
    "plt.show()"
   ]
  },
  {
   "cell_type": "markdown",
   "metadata": {
    "id": "BwAYi-tp_UFU"
   },
   "source": [
    "### Interpretation: The scatterplot shows that Malignant diagnosis has higher radius mean and texture mean. It is known that Malignant tumor is worse and the scatter plot reflects it."
   ]
  },
  {
   "cell_type": "markdown",
   "metadata": {},
   "source": [
    "## **Logistic Regression Model Development** "
   ]
  },
  {
   "cell_type": "markdown",
   "metadata": {
    "id": "Dki5brQEGy1z"
   },
   "source": [
    "#### In developing the logistic regression to predict cancer maglignancy, the process involved by eliminating missing values, dropping unnamed columns, and encoding diagnosis into M->1 and B->0. By examining variables using visualization for relation between tumors and variables to get a clear understanding of the dataset. \n",
    "\n",
    "#### After the data cleaning and visualizaton, we spilt the data into train and test for model builing. The logistic regression was a suitable choice because of the binary (0,1) elements that measure the cancer maglignancy. We used 0.8 for train_size = 0.8, this decision to allocate a larger portion to training is to allow the model to learn from the data and potentially reduce false positives. "
   ]
  },
  {
   "cell_type": "code",
   "execution_count": 14,
   "metadata": {
    "id": "3JxRW9cBuwFi"
   },
   "outputs": [],
   "source": [
    "# transfer malignant to 0 and benign to 1\n",
    "can.loc[can['diagnosis'] == 'M','diagnosis'] = 0\n",
    "can.loc[can['diagnosis'] == 'B','diagnosis'] = 1\n",
    "can['diagnosis'] = can['diagnosis'].astype(float)\n",
    "# split the dataset into training and testing sample\n",
    "train,val = train_test_split(can, train_size = 0.8)"
   ]
  },
  {
   "cell_type": "code",
   "execution_count": 15,
   "metadata": {
    "colab": {
     "base_uri": "https://localhost:8080/",
     "height": 74
    },
    "id": "csFLCgw-u8ez",
    "outputId": "b7cf7934-e886-4e79-fd13-fe82146798f5"
   },
   "outputs": [
    {
     "data": {
      "text/html": [
       "<style>#sk-container-id-1 {color: black;}#sk-container-id-1 pre{padding: 0;}#sk-container-id-1 div.sk-toggleable {background-color: white;}#sk-container-id-1 label.sk-toggleable__label {cursor: pointer;display: block;width: 100%;margin-bottom: 0;padding: 0.3em;box-sizing: border-box;text-align: center;}#sk-container-id-1 label.sk-toggleable__label-arrow:before {content: \"▸\";float: left;margin-right: 0.25em;color: #696969;}#sk-container-id-1 label.sk-toggleable__label-arrow:hover:before {color: black;}#sk-container-id-1 div.sk-estimator:hover label.sk-toggleable__label-arrow:before {color: black;}#sk-container-id-1 div.sk-toggleable__content {max-height: 0;max-width: 0;overflow: hidden;text-align: left;background-color: #f0f8ff;}#sk-container-id-1 div.sk-toggleable__content pre {margin: 0.2em;color: black;border-radius: 0.25em;background-color: #f0f8ff;}#sk-container-id-1 input.sk-toggleable__control:checked~div.sk-toggleable__content {max-height: 200px;max-width: 100%;overflow: auto;}#sk-container-id-1 input.sk-toggleable__control:checked~label.sk-toggleable__label-arrow:before {content: \"▾\";}#sk-container-id-1 div.sk-estimator input.sk-toggleable__control:checked~label.sk-toggleable__label {background-color: #d4ebff;}#sk-container-id-1 div.sk-label input.sk-toggleable__control:checked~label.sk-toggleable__label {background-color: #d4ebff;}#sk-container-id-1 input.sk-hidden--visually {border: 0;clip: rect(1px 1px 1px 1px);clip: rect(1px, 1px, 1px, 1px);height: 1px;margin: -1px;overflow: hidden;padding: 0;position: absolute;width: 1px;}#sk-container-id-1 div.sk-estimator {font-family: monospace;background-color: #f0f8ff;border: 1px dotted black;border-radius: 0.25em;box-sizing: border-box;margin-bottom: 0.5em;}#sk-container-id-1 div.sk-estimator:hover {background-color: #d4ebff;}#sk-container-id-1 div.sk-parallel-item::after {content: \"\";width: 100%;border-bottom: 1px solid gray;flex-grow: 1;}#sk-container-id-1 div.sk-label:hover label.sk-toggleable__label {background-color: #d4ebff;}#sk-container-id-1 div.sk-serial::before {content: \"\";position: absolute;border-left: 1px solid gray;box-sizing: border-box;top: 0;bottom: 0;left: 50%;z-index: 0;}#sk-container-id-1 div.sk-serial {display: flex;flex-direction: column;align-items: center;background-color: white;padding-right: 0.2em;padding-left: 0.2em;position: relative;}#sk-container-id-1 div.sk-item {position: relative;z-index: 1;}#sk-container-id-1 div.sk-parallel {display: flex;align-items: stretch;justify-content: center;background-color: white;position: relative;}#sk-container-id-1 div.sk-item::before, #sk-container-id-1 div.sk-parallel-item::before {content: \"\";position: absolute;border-left: 1px solid gray;box-sizing: border-box;top: 0;bottom: 0;left: 50%;z-index: -1;}#sk-container-id-1 div.sk-parallel-item {display: flex;flex-direction: column;z-index: 1;position: relative;background-color: white;}#sk-container-id-1 div.sk-parallel-item:first-child::after {align-self: flex-end;width: 50%;}#sk-container-id-1 div.sk-parallel-item:last-child::after {align-self: flex-start;width: 50%;}#sk-container-id-1 div.sk-parallel-item:only-child::after {width: 0;}#sk-container-id-1 div.sk-dashed-wrapped {border: 1px dashed gray;margin: 0 0.4em 0.5em 0.4em;box-sizing: border-box;padding-bottom: 0.4em;background-color: white;}#sk-container-id-1 div.sk-label label {font-family: monospace;font-weight: bold;display: inline-block;line-height: 1.2em;}#sk-container-id-1 div.sk-label-container {text-align: center;}#sk-container-id-1 div.sk-container {/* jupyter's `normalize.less` sets `[hidden] { display: none; }` but bootstrap.min.css set `[hidden] { display: none !important; }` so we also need the `!important` here to be able to override the default hidden behavior on the sphinx rendered scikit-learn.org. See: https://github.com/scikit-learn/scikit-learn/issues/21755 */display: inline-block !important;position: relative;}#sk-container-id-1 div.sk-text-repr-fallback {display: none;}</style><div id=\"sk-container-id-1\" class=\"sk-top-container\"><div class=\"sk-text-repr-fallback\"><pre>LogisticRegression(max_iter=2500)</pre><b>In a Jupyter environment, please rerun this cell to show the HTML representation or trust the notebook. <br />On GitHub, the HTML representation is unable to render, please try loading this page with nbviewer.org.</b></div><div class=\"sk-container\" hidden><div class=\"sk-item\"><div class=\"sk-estimator sk-toggleable\"><input class=\"sk-toggleable__control sk-hidden--visually\" id=\"sk-estimator-id-1\" type=\"checkbox\" checked><label for=\"sk-estimator-id-1\" class=\"sk-toggleable__label sk-toggleable__label-arrow\">LogisticRegression</label><div class=\"sk-toggleable__content\"><pre>LogisticRegression(max_iter=2500)</pre></div></div></div></div></div>"
      ],
      "text/plain": [
       "LogisticRegression(max_iter=2500)"
      ]
     },
     "execution_count": 15,
     "metadata": {},
     "output_type": "execute_result"
    }
   ],
   "source": [
    "# define the independent and dependent variables\n",
    "x = train.drop(['diagnosis'],axis = 1).values\n",
    "y = train['diagnosis'].values\n",
    "model = LogisticRegression(max_iter=2500) # allow for more number of iteration for logit to converge\n",
    "model.fit(x,y)"
   ]
  },
  {
   "cell_type": "code",
   "execution_count": 16,
   "metadata": {
    "colab": {
     "base_uri": "https://localhost:8080/"
    },
    "id": "wf3nGvLvu9yX",
    "outputId": "1c2faf4b-95fd-4638-a8bf-4da255cda3ee"
   },
   "outputs": [
    {
     "data": {
      "text/plain": [
       "0.9385964912280702"
      ]
     },
     "execution_count": 16,
     "metadata": {},
     "output_type": "execute_result"
    }
   ],
   "source": [
    "# out sample prediction and performance evaluation\n",
    "logit_pred = model.predict(val.drop(['diagnosis'],axis = 1).values)\n",
    "accuracy_score(val['diagnosis'],logit_pred)"
   ]
  },
  {
   "cell_type": "code",
   "execution_count": 17,
   "metadata": {},
   "outputs": [
    {
     "name": "stdout",
     "output_type": "stream",
     "text": [
      "Coefficients: [[ 0.71756968  0.19740919 -0.06759685  0.01433342 -0.10380102 -0.14104171\n",
      "  -0.32937227 -0.16850868 -0.14075348 -0.02719695 -0.0206856   1.27177068\n",
      "  -0.42076659 -0.08517509 -0.01614697  0.01585742 -0.04647963 -0.02683001\n",
      "  -0.02037523  0.00633154  0.46279022 -0.43086195 -0.26735184 -0.0102658\n",
      "  -0.21427668 -0.56972168 -1.07842515 -0.3770599  -0.40431295 -0.08486292]]\n"
     ]
    }
   ],
   "source": [
    "coefficients = model.coef_\n",
    "print(\"Coefficients:\", coefficients)"
   ]
  },
  {
   "cell_type": "code",
   "execution_count": 18,
   "metadata": {},
   "outputs": [
    {
     "name": "stdout",
     "output_type": "stream",
     "text": [
      "Intercept: [26.99030822]\n"
     ]
    }
   ],
   "source": [
    "intercept = model.intercept_\n",
    "print(\"Intercept:\", intercept)"
   ]
  },
  {
   "cell_type": "markdown",
   "metadata": {},
   "source": [
    "#### Summary: The intercept and coefficients of the model are as shown above, with Benign Tumor as the baseline. Holding all other variables constant, the log-odds of being diagnosed with a Benign Tumor increases by approximately 26.99%. "
   ]
  },
  {
   "cell_type": "markdown",
   "metadata": {
    "id": "FRGGmkN-TJNC"
   },
   "source": [
    "## **Model Evaluation** \n"
   ]
  },
  {
   "cell_type": "code",
   "execution_count": 19,
   "metadata": {},
   "outputs": [
    {
     "name": "stdout",
     "output_type": "stream",
     "text": [
      "Accuracy Score: 0.9385964912280702\n",
      "\n",
      "Confusion Matrix:\n",
      "[[46  0]\n",
      " [ 7 61]]\n",
      "\n",
      "Classification Report:\n",
      "              precision    recall  f1-score   support\n",
      "\n",
      "         0.0       0.87      1.00      0.93        46\n",
      "         1.0       1.00      0.90      0.95        68\n",
      "\n",
      "    accuracy                           0.94       114\n",
      "   macro avg       0.93      0.95      0.94       114\n",
      "weighted avg       0.95      0.94      0.94       114\n",
      "\n"
     ]
    }
   ],
   "source": [
    "accuracy = accuracy_score(val['diagnosis'], logit_pred)\n",
    "print(\"Accuracy Score:\", accuracy)\n",
    "\n",
    "# Confusion Matrix\n",
    "print(\"\\nConfusion Matrix:\")\n",
    "print(confusion_matrix(val['diagnosis'], logit_pred))\n",
    "\n",
    "# Classification Report\n",
    "print(\"\\nClassification Report:\")\n",
    "print(classification_report(val['diagnosis'], logit_pred))"
   ]
  },
  {
   "cell_type": "markdown",
   "metadata": {
    "id": "c-KzeACqKtdy"
   },
   "source": [
    "### Interpretation: The logistic regression model achieved an accuracy of 94.7%  in classifying the tumors into Malignant Tumor and Benign Tumor. The precicion in predicting the Benign Tumor cases is 96% from confusion matrix. Overall, the model reflects good capabilities to classify tumors. "
   ]
  },
  {
   "cell_type": "code",
   "execution_count": 20,
   "metadata": {
    "colab": {
     "base_uri": "https://localhost:8080/"
    },
    "id": "UZv4SOQkKYxL",
    "outputId": "0beafc56-6ebd-4a83-9ef4-f8d1895de6d3"
   },
   "outputs": [
    {
     "data": {
      "text/plain": [
       "0.24779731389167603"
      ]
     },
     "execution_count": 20,
     "metadata": {},
     "output_type": "execute_result"
    }
   ],
   "source": [
    "# RMSE\n",
    "np.sqrt(mean_squared_error(val['diagnosis'],logit_pred))"
   ]
  },
  {
   "cell_type": "markdown",
   "metadata": {
    "id": "p7gIj0tYMEkn"
   },
   "source": [
    "### Interpretation: RMSE for the logistic regression is 0.247, lower RMSE generally indicates better predictive accuracy hence the model's performance will be assessed with other in q4 and q5 after we make a reduced model and add interactions to compare RMSE. "
   ]
  },
  {
   "cell_type": "code",
   "execution_count": 21,
   "metadata": {
    "colab": {
     "base_uri": "https://localhost:8080/"
    },
    "id": "cplRECeXKa-E",
    "outputId": "a9a65774-0a11-4938-a4b6-77b0c7163b73"
   },
   "outputs": [
    {
     "data": {
      "text/plain": [
       "0.7448849104859335"
      ]
     },
     "execution_count": 21,
     "metadata": {},
     "output_type": "execute_result"
    }
   ],
   "source": [
    "# R^2\n",
    "r2_score(val['diagnosis'],logit_pred)"
   ]
  },
  {
   "cell_type": "markdown",
   "metadata": {
    "id": "miMbVVMjMGOE"
   },
   "source": [
    "### Interpretation: The R^2 value is 0.744, signifying a high value. This implies that 74.4% of the variance in the diagnosis is accounted for by the logistic model. Hence, the logistic model performs well when considering R^2. High R^2 reflects strong predictive capability of the model. "
   ]
  },
  {
   "cell_type": "markdown",
   "metadata": {
    "id": "-uRij0xMTQi-"
   },
   "source": [
    "## **Testing Interactions Between Features** \n"
   ]
  },
  {
   "cell_type": "code",
   "execution_count": 22,
   "metadata": {
    "id": "RDhzTvT4TfXg"
   },
   "outputs": [],
   "source": [
    "# create interaction terms of diagnosis * radius mean\n",
    "can['radius_int'] = can['diagnosis'] * can['radius_mean']\n",
    "# create interaction terms of diagnosis *texture mean\n",
    "can['texture_int'] = can['diagnosis'] * can['texture_mean']\n",
    "# create interaction terms of diagnosis * perimeter_mean\n",
    "can['perimeter_int'] = can['diagnosis']* can['perimeter_mean']"
   ]
  },
  {
   "cell_type": "code",
   "execution_count": 23,
   "metadata": {
    "colab": {
     "base_uri": "https://localhost:8080/",
     "height": 273
    },
    "id": "9r5oMuxFTp2k",
    "outputId": "9f7a1b8c-aee8-4800-e8c5-6b2897159a35"
   },
   "outputs": [
    {
     "data": {
      "text/html": [
       "<div>\n",
       "<style scoped>\n",
       "    .dataframe tbody tr th:only-of-type {\n",
       "        vertical-align: middle;\n",
       "    }\n",
       "\n",
       "    .dataframe tbody tr th {\n",
       "        vertical-align: top;\n",
       "    }\n",
       "\n",
       "    .dataframe thead th {\n",
       "        text-align: right;\n",
       "    }\n",
       "</style>\n",
       "<table border=\"1\" class=\"dataframe\">\n",
       "  <thead>\n",
       "    <tr style=\"text-align: right;\">\n",
       "      <th></th>\n",
       "      <th>diagnosis</th>\n",
       "      <th>radius_mean</th>\n",
       "      <th>texture_mean</th>\n",
       "      <th>perimeter_mean</th>\n",
       "      <th>area_mean</th>\n",
       "      <th>smoothness_mean</th>\n",
       "      <th>compactness_mean</th>\n",
       "      <th>concavity_mean</th>\n",
       "      <th>concave points_mean</th>\n",
       "      <th>symmetry_mean</th>\n",
       "      <th>...</th>\n",
       "      <th>area_worst</th>\n",
       "      <th>smoothness_worst</th>\n",
       "      <th>compactness_worst</th>\n",
       "      <th>concavity_worst</th>\n",
       "      <th>concave points_worst</th>\n",
       "      <th>symmetry_worst</th>\n",
       "      <th>fractal_dimension_worst</th>\n",
       "      <th>radius_int</th>\n",
       "      <th>texture_int</th>\n",
       "      <th>perimeter_int</th>\n",
       "    </tr>\n",
       "  </thead>\n",
       "  <tbody>\n",
       "    <tr>\n",
       "      <th>564</th>\n",
       "      <td>0.0</td>\n",
       "      <td>21.56</td>\n",
       "      <td>22.39</td>\n",
       "      <td>142.00</td>\n",
       "      <td>1479.0</td>\n",
       "      <td>0.11100</td>\n",
       "      <td>0.11590</td>\n",
       "      <td>0.24390</td>\n",
       "      <td>0.13890</td>\n",
       "      <td>0.1726</td>\n",
       "      <td>...</td>\n",
       "      <td>2027.0</td>\n",
       "      <td>0.14100</td>\n",
       "      <td>0.21130</td>\n",
       "      <td>0.4107</td>\n",
       "      <td>0.2216</td>\n",
       "      <td>0.2060</td>\n",
       "      <td>0.07115</td>\n",
       "      <td>0.00</td>\n",
       "      <td>0.00</td>\n",
       "      <td>0.00</td>\n",
       "    </tr>\n",
       "    <tr>\n",
       "      <th>565</th>\n",
       "      <td>0.0</td>\n",
       "      <td>20.13</td>\n",
       "      <td>28.25</td>\n",
       "      <td>131.20</td>\n",
       "      <td>1261.0</td>\n",
       "      <td>0.09780</td>\n",
       "      <td>0.10340</td>\n",
       "      <td>0.14400</td>\n",
       "      <td>0.09791</td>\n",
       "      <td>0.1752</td>\n",
       "      <td>...</td>\n",
       "      <td>1731.0</td>\n",
       "      <td>0.11660</td>\n",
       "      <td>0.19220</td>\n",
       "      <td>0.3215</td>\n",
       "      <td>0.1628</td>\n",
       "      <td>0.2572</td>\n",
       "      <td>0.06637</td>\n",
       "      <td>0.00</td>\n",
       "      <td>0.00</td>\n",
       "      <td>0.00</td>\n",
       "    </tr>\n",
       "    <tr>\n",
       "      <th>566</th>\n",
       "      <td>0.0</td>\n",
       "      <td>16.60</td>\n",
       "      <td>28.08</td>\n",
       "      <td>108.30</td>\n",
       "      <td>858.1</td>\n",
       "      <td>0.08455</td>\n",
       "      <td>0.10230</td>\n",
       "      <td>0.09251</td>\n",
       "      <td>0.05302</td>\n",
       "      <td>0.1590</td>\n",
       "      <td>...</td>\n",
       "      <td>1124.0</td>\n",
       "      <td>0.11390</td>\n",
       "      <td>0.30940</td>\n",
       "      <td>0.3403</td>\n",
       "      <td>0.1418</td>\n",
       "      <td>0.2218</td>\n",
       "      <td>0.07820</td>\n",
       "      <td>0.00</td>\n",
       "      <td>0.00</td>\n",
       "      <td>0.00</td>\n",
       "    </tr>\n",
       "    <tr>\n",
       "      <th>567</th>\n",
       "      <td>0.0</td>\n",
       "      <td>20.60</td>\n",
       "      <td>29.33</td>\n",
       "      <td>140.10</td>\n",
       "      <td>1265.0</td>\n",
       "      <td>0.11780</td>\n",
       "      <td>0.27700</td>\n",
       "      <td>0.35140</td>\n",
       "      <td>0.15200</td>\n",
       "      <td>0.2397</td>\n",
       "      <td>...</td>\n",
       "      <td>1821.0</td>\n",
       "      <td>0.16500</td>\n",
       "      <td>0.86810</td>\n",
       "      <td>0.9387</td>\n",
       "      <td>0.2650</td>\n",
       "      <td>0.4087</td>\n",
       "      <td>0.12400</td>\n",
       "      <td>0.00</td>\n",
       "      <td>0.00</td>\n",
       "      <td>0.00</td>\n",
       "    </tr>\n",
       "    <tr>\n",
       "      <th>568</th>\n",
       "      <td>1.0</td>\n",
       "      <td>7.76</td>\n",
       "      <td>24.54</td>\n",
       "      <td>47.92</td>\n",
       "      <td>181.0</td>\n",
       "      <td>0.05263</td>\n",
       "      <td>0.04362</td>\n",
       "      <td>0.00000</td>\n",
       "      <td>0.00000</td>\n",
       "      <td>0.1587</td>\n",
       "      <td>...</td>\n",
       "      <td>268.6</td>\n",
       "      <td>0.08996</td>\n",
       "      <td>0.06444</td>\n",
       "      <td>0.0000</td>\n",
       "      <td>0.0000</td>\n",
       "      <td>0.2871</td>\n",
       "      <td>0.07039</td>\n",
       "      <td>7.76</td>\n",
       "      <td>24.54</td>\n",
       "      <td>47.92</td>\n",
       "    </tr>\n",
       "  </tbody>\n",
       "</table>\n",
       "<p>5 rows × 34 columns</p>\n",
       "</div>"
      ],
      "text/plain": [
       "     diagnosis  radius_mean  texture_mean  perimeter_mean  area_mean  \\\n",
       "564        0.0        21.56         22.39          142.00     1479.0   \n",
       "565        0.0        20.13         28.25          131.20     1261.0   \n",
       "566        0.0        16.60         28.08          108.30      858.1   \n",
       "567        0.0        20.60         29.33          140.10     1265.0   \n",
       "568        1.0         7.76         24.54           47.92      181.0   \n",
       "\n",
       "     smoothness_mean  compactness_mean  concavity_mean  concave points_mean  \\\n",
       "564          0.11100           0.11590         0.24390              0.13890   \n",
       "565          0.09780           0.10340         0.14400              0.09791   \n",
       "566          0.08455           0.10230         0.09251              0.05302   \n",
       "567          0.11780           0.27700         0.35140              0.15200   \n",
       "568          0.05263           0.04362         0.00000              0.00000   \n",
       "\n",
       "     symmetry_mean  ...  area_worst  smoothness_worst  compactness_worst  \\\n",
       "564         0.1726  ...      2027.0           0.14100            0.21130   \n",
       "565         0.1752  ...      1731.0           0.11660            0.19220   \n",
       "566         0.1590  ...      1124.0           0.11390            0.30940   \n",
       "567         0.2397  ...      1821.0           0.16500            0.86810   \n",
       "568         0.1587  ...       268.6           0.08996            0.06444   \n",
       "\n",
       "     concavity_worst  concave points_worst  symmetry_worst  \\\n",
       "564           0.4107                0.2216          0.2060   \n",
       "565           0.3215                0.1628          0.2572   \n",
       "566           0.3403                0.1418          0.2218   \n",
       "567           0.9387                0.2650          0.4087   \n",
       "568           0.0000                0.0000          0.2871   \n",
       "\n",
       "     fractal_dimension_worst  radius_int  texture_int  perimeter_int  \n",
       "564                  0.07115        0.00         0.00           0.00  \n",
       "565                  0.06637        0.00         0.00           0.00  \n",
       "566                  0.07820        0.00         0.00           0.00  \n",
       "567                  0.12400        0.00         0.00           0.00  \n",
       "568                  0.07039        7.76        24.54          47.92  \n",
       "\n",
       "[5 rows x 34 columns]"
      ]
     },
     "execution_count": 23,
     "metadata": {},
     "output_type": "execute_result"
    }
   ],
   "source": [
    "can.tail()"
   ]
  },
  {
   "cell_type": "code",
   "execution_count": 24,
   "metadata": {
    "colab": {
     "base_uri": "https://localhost:8080/"
    },
    "id": "tq2yOdSrTvMt",
    "outputId": "4de72f81-2616-408a-cd93-24305f1b5f79"
   },
   "outputs": [
    {
     "data": {
      "text/html": [
       "<style>#sk-container-id-2 {color: black;}#sk-container-id-2 pre{padding: 0;}#sk-container-id-2 div.sk-toggleable {background-color: white;}#sk-container-id-2 label.sk-toggleable__label {cursor: pointer;display: block;width: 100%;margin-bottom: 0;padding: 0.3em;box-sizing: border-box;text-align: center;}#sk-container-id-2 label.sk-toggleable__label-arrow:before {content: \"▸\";float: left;margin-right: 0.25em;color: #696969;}#sk-container-id-2 label.sk-toggleable__label-arrow:hover:before {color: black;}#sk-container-id-2 div.sk-estimator:hover label.sk-toggleable__label-arrow:before {color: black;}#sk-container-id-2 div.sk-toggleable__content {max-height: 0;max-width: 0;overflow: hidden;text-align: left;background-color: #f0f8ff;}#sk-container-id-2 div.sk-toggleable__content pre {margin: 0.2em;color: black;border-radius: 0.25em;background-color: #f0f8ff;}#sk-container-id-2 input.sk-toggleable__control:checked~div.sk-toggleable__content {max-height: 200px;max-width: 100%;overflow: auto;}#sk-container-id-2 input.sk-toggleable__control:checked~label.sk-toggleable__label-arrow:before {content: \"▾\";}#sk-container-id-2 div.sk-estimator input.sk-toggleable__control:checked~label.sk-toggleable__label {background-color: #d4ebff;}#sk-container-id-2 div.sk-label input.sk-toggleable__control:checked~label.sk-toggleable__label {background-color: #d4ebff;}#sk-container-id-2 input.sk-hidden--visually {border: 0;clip: rect(1px 1px 1px 1px);clip: rect(1px, 1px, 1px, 1px);height: 1px;margin: -1px;overflow: hidden;padding: 0;position: absolute;width: 1px;}#sk-container-id-2 div.sk-estimator {font-family: monospace;background-color: #f0f8ff;border: 1px dotted black;border-radius: 0.25em;box-sizing: border-box;margin-bottom: 0.5em;}#sk-container-id-2 div.sk-estimator:hover {background-color: #d4ebff;}#sk-container-id-2 div.sk-parallel-item::after {content: \"\";width: 100%;border-bottom: 1px solid gray;flex-grow: 1;}#sk-container-id-2 div.sk-label:hover label.sk-toggleable__label {background-color: #d4ebff;}#sk-container-id-2 div.sk-serial::before {content: \"\";position: absolute;border-left: 1px solid gray;box-sizing: border-box;top: 0;bottom: 0;left: 50%;z-index: 0;}#sk-container-id-2 div.sk-serial {display: flex;flex-direction: column;align-items: center;background-color: white;padding-right: 0.2em;padding-left: 0.2em;position: relative;}#sk-container-id-2 div.sk-item {position: relative;z-index: 1;}#sk-container-id-2 div.sk-parallel {display: flex;align-items: stretch;justify-content: center;background-color: white;position: relative;}#sk-container-id-2 div.sk-item::before, #sk-container-id-2 div.sk-parallel-item::before {content: \"\";position: absolute;border-left: 1px solid gray;box-sizing: border-box;top: 0;bottom: 0;left: 50%;z-index: -1;}#sk-container-id-2 div.sk-parallel-item {display: flex;flex-direction: column;z-index: 1;position: relative;background-color: white;}#sk-container-id-2 div.sk-parallel-item:first-child::after {align-self: flex-end;width: 50%;}#sk-container-id-2 div.sk-parallel-item:last-child::after {align-self: flex-start;width: 50%;}#sk-container-id-2 div.sk-parallel-item:only-child::after {width: 0;}#sk-container-id-2 div.sk-dashed-wrapped {border: 1px dashed gray;margin: 0 0.4em 0.5em 0.4em;box-sizing: border-box;padding-bottom: 0.4em;background-color: white;}#sk-container-id-2 div.sk-label label {font-family: monospace;font-weight: bold;display: inline-block;line-height: 1.2em;}#sk-container-id-2 div.sk-label-container {text-align: center;}#sk-container-id-2 div.sk-container {/* jupyter's `normalize.less` sets `[hidden] { display: none; }` but bootstrap.min.css set `[hidden] { display: none !important; }` so we also need the `!important` here to be able to override the default hidden behavior on the sphinx rendered scikit-learn.org. See: https://github.com/scikit-learn/scikit-learn/issues/21755 */display: inline-block !important;position: relative;}#sk-container-id-2 div.sk-text-repr-fallback {display: none;}</style><div id=\"sk-container-id-2\" class=\"sk-top-container\"><div class=\"sk-text-repr-fallback\"><pre>LinearRegression()</pre><b>In a Jupyter environment, please rerun this cell to show the HTML representation or trust the notebook. <br />On GitHub, the HTML representation is unable to render, please try loading this page with nbviewer.org.</b></div><div class=\"sk-container\" hidden><div class=\"sk-item\"><div class=\"sk-estimator sk-toggleable\"><input class=\"sk-toggleable__control sk-hidden--visually\" id=\"sk-estimator-id-2\" type=\"checkbox\" checked><label for=\"sk-estimator-id-2\" class=\"sk-toggleable__label sk-toggleable__label-arrow\">LinearRegression</label><div class=\"sk-toggleable__content\"><pre>LinearRegression()</pre></div></div></div></div></div>"
      ],
      "text/plain": [
       "LinearRegression()"
      ]
     },
     "execution_count": 24,
     "metadata": {},
     "output_type": "execute_result"
    }
   ],
   "source": [
    "# split the dataset to train and test set\n",
    "train4,test4 = train_test_split(can,train_size = 0.8)\n",
    "\n",
    "# build the linear regression model with interactions using sklearn\n",
    "x4_split = train4.drop(['diagnosis'], axis = 1).values\n",
    "y4_split = train4['diagnosis'].values\n",
    "model4 = LinearRegression()\n",
    "model4.fit(x4_split,y4_split)"
   ]
  },
  {
   "cell_type": "code",
   "execution_count": 25,
   "metadata": {},
   "outputs": [
    {
     "data": {
      "text/plain": [
       "array([-0.13793227, -0.12356048,  1.02404727,  1.02216063,  1.00972831,\n",
       "        1.0378621 ,  1.00257866,  1.02923897,  1.13380645, -0.00951212,\n",
       "       -0.05062771,  1.02709793, -0.00317025,  1.021557  ,  1.05301533,\n",
       "       -0.02623173,  1.02256912, -0.00807286, -0.02419376,  1.03078868,\n",
       "       -0.0532    ,  1.00655498,  1.05273695,  1.00828188, -0.05439482,\n",
       "        1.01254261, -0.02064917, -0.0497871 , -0.06693119,  1.0220562 ,\n",
       "       -0.03720336, -0.01401104, -0.00569538,  1.03794067, -0.07159718,\n",
       "        1.00391429, -0.01708826, -0.03163425, -0.02851387,  1.03032374,\n",
       "       -0.01461864, -0.03542716, -0.05292224,  1.00082717,  1.01120876,\n",
       "       -0.04333501, -0.0834842 ,  1.023172  ,  1.12578496, -0.02257167,\n",
       "        1.034661  , -0.01316806,  1.01834356,  1.01460834])"
      ]
     },
     "execution_count": 25,
     "metadata": {},
     "output_type": "execute_result"
    }
   ],
   "source": [
    "# out-sample prediction\n",
    "linear_pred = model4.predict(test4.drop(['diagnosis'], axis = 1).values)\n",
    "linear_pred[(linear_pred>1)|(linear_pred<0)]"
   ]
  },
  {
   "cell_type": "markdown",
   "metadata": {
    "id": "ZDm5MYRuM8cn"
   },
   "source": [
    "### Intepretation: **Issue with Linear Regression for Binary Outcomes**\n",
    "\n",
    "### The out-sample prediction above shows one problem of use linear regression to predict binary outcomes. The predictued values smaller than 0 and larger than 1, this is faulty since the binary outcome are 0 and 1. This is hard to explain since the predicted values are ranging from 0-1. "
   ]
  },
  {
   "cell_type": "code",
   "execution_count": 26,
   "metadata": {},
   "outputs": [
    {
     "name": "stdout",
     "output_type": "stream",
     "text": [
      "Coefficients: [-9.56399387e-02 -3.56768952e-03 -1.79746074e-03  9.37105222e-04\n",
      " -3.72103589e-01  3.55673741e-01 -4.24710361e-01  7.50819021e-01\n",
      "  1.85872219e-01  3.87691293e-02  7.63893202e-03  3.70362023e-04\n",
      "  1.66647873e-02 -1.49623858e-03  5.84707840e-01 -2.52959177e-01\n",
      "  9.10549750e-01 -1.49781641e+00 -4.17190071e-01  2.72474938e+00\n",
      " -1.54443947e-02 -1.42943455e-03 -4.08308147e-04  1.61906322e-04\n",
      "  3.83188908e-01  1.37879437e-02 -3.08085582e-02 -2.43527305e-01\n",
      " -6.21504135e-03 -5.84134864e-01  1.37378640e-01  7.72610630e-03\n",
      " -1.23922387e-02]\n"
     ]
    }
   ],
   "source": [
    "coefficients = model4.coef_\n",
    "print(\"Coefficients:\", coefficients)"
   ]
  },
  {
   "cell_type": "code",
   "execution_count": 27,
   "metadata": {},
   "outputs": [
    {
     "data": {
      "text/plain": [
       "-0.8515809487428418"
      ]
     },
     "execution_count": 27,
     "metadata": {},
     "output_type": "execute_result"
    }
   ],
   "source": [
    "# R^2\n",
    "r2_score(val['diagnosis'],linear_pred)"
   ]
  },
  {
   "cell_type": "code",
   "execution_count": 28,
   "metadata": {},
   "outputs": [
    {
     "data": {
      "text/plain": [
       "0.6675747052183517"
      ]
     },
     "execution_count": 28,
     "metadata": {},
     "output_type": "execute_result"
    }
   ],
   "source": [
    "# RMSE\n",
    "np.sqrt(mean_squared_error(val['diagnosis'],linear_pred))"
   ]
  },
  {
   "cell_type": "markdown",
   "metadata": {
    "id": "ifPwXgl8NJQ2"
   },
   "source": [
    "### Interpretation: The RMSE for the linear regression is 0.667 which indicates the deviation from actual values and the RMSE is high which means the accuracy is poor. The R^2 is -0.851 which is an unsual value and it might is due to issues with fitting the data in the linear regression model. Hence, linear regression in classification of the tumor has unsuccessful results. "
   ]
  },
  {
   "cell_type": "markdown",
   "metadata": {
    "id": "7Jqen4L0T8XM"
   },
   "source": [
    "## **Feature Selection and Cross-Validation: Full vs. Reduced Model**"
   ]
  },
  {
   "cell_type": "markdown",
   "metadata": {},
   "source": [
    "### To begin building the reduced model, I used FDR BH-procedure to find a significant p-value that will allow valid features to be a part of the model. The FDR BH-procedure is a method that we learned helps in identifying false positives for feature selection."
   ]
  },
  {
   "cell_type": "code",
   "execution_count": 29,
   "metadata": {},
   "outputs": [],
   "source": [
    "cancer_df = can.copy() # recreated the df to have interactions elmininated"
   ]
  },
  {
   "cell_type": "code",
   "execution_count": 30,
   "metadata": {},
   "outputs": [],
   "source": [
    "# excluded the interactions terms \n",
    "cancer_df = cancer_df.drop(['radius_int', 'texture_int','perimeter_int'], axis=1)\n",
    "X = cancer_df.drop(['diagnosis'], axis=1)\n",
    "y = cancer_df['diagnosis'] "
   ]
  },
  {
   "cell_type": "code",
   "execution_count": 31,
   "metadata": {},
   "outputs": [],
   "source": [
    "# form p values to use fdr technique\n",
    "p_values = []\n",
    "for column in X.columns:\n",
    "    X_col = sm.add_constant(X[[column]])\n",
    "    X_array = np.asarray(X_col)\n",
    "    y_array = np.asarray(y)\n",
    "    # disp= 0 suppress output\n",
    "    model = sm.Logit(y, X_col).fit(disp=0)\n",
    "    # p-value from the features\n",
    "    p_values.append(model.pvalues[1])  "
   ]
  },
  {
   "cell_type": "code",
   "execution_count": 32,
   "metadata": {},
   "outputs": [
    {
     "data": {
      "text/plain": [
       "[1.2510153348571636e-28,\n",
       " 2.827232274379715e-19,\n",
       " 2.4479522198440635e-28,\n",
       " 3.468842267714744e-27,\n",
       " 1.7476949598430132e-15,\n",
       " 3.4831397158652845e-30,\n",
       " 5.418764267869059e-34,\n",
       " 8.624072326277675e-32,\n",
       " 2.2881935414751636e-13,\n",
       " 0.7594709672357755,\n",
       " 2.3431702025170145e-28,\n",
       " 0.8430081276003628,\n",
       " 1.898535821990848e-28,\n",
       " 1.4684112892831368e-26,\n",
       " 0.11251098732042425,\n",
       " 1.4301612442625193e-10,\n",
       " 3.4500046540169186e-09,\n",
       " 3.595682785995045e-18,\n",
       " 0.8763826740717153,\n",
       " 0.07055555239597285,\n",
       " 2.9520527179095437e-23,\n",
       " 2.0144506416929795e-22,\n",
       " 2.3014484673008245e-23,\n",
       " 1.1774546641206756e-22,\n",
       " 1.3096263676563101e-19,\n",
       " 2.0180893694089014e-30,\n",
       " 5.6645589433946094e-33,\n",
       " 1.2069861543949608e-30,\n",
       " 3.493150959308856e-18,\n",
       " 9.925173065731854e-13]"
      ]
     },
     "execution_count": 32,
     "metadata": {},
     "output_type": "execute_result"
    }
   ],
   "source": [
    "p_values\n",
    "# all the p-values"
   ]
  },
  {
   "cell_type": "code",
   "execution_count": 33,
   "metadata": {
    "colab": {
     "base_uri": "https://localhost:8080/",
     "height": 472
    },
    "id": "4dJXBIyYOm3_",
    "outputId": "33491e13-4e72-41fd-f266-d3b0a5d3c4b6"
   },
   "outputs": [
    {
     "data": {
      "image/png": "[encoded data removed]",
      "text/plain": [
       "<Figure size 432x288 with 1 Axes>"
      ]
     },
     "metadata": {
      "needs_background": "light"
     },
     "output_type": "display_data"
    }
   ],
   "source": [
    "p_values = p_values\n",
    "\n",
    "# Plot the histogram of p-values\n",
    "plt.hist(p_values, color=\"blue\", edgecolor=\"black\")\n",
    "plt.xlabel(\"p-value\")\n",
    "plt.ylabel(\"Frequency\")\n",
    "plt.title(\"Histogram of p-values\")\n",
    "plt.show()"
   ]
  },
  {
   "cell_type": "code",
   "execution_count": 34,
   "metadata": {
    "id": "eftqD_CoQCKW"
   },
   "outputs": [],
   "source": [
    "# define the function for BH procedure\n",
    "def fdr(pvals, q, plotit=False):\n",
    "  # Remove NA values\n",
    "  pvals = np.array(pvals)\n",
    "  pvals = pvals[~np.isnan(pvals)]\n",
    "  N = len(pvals)\n",
    "\n",
    "  # Sort the p-values and calculate the FDR threshold\n",
    "  sorted_pvals = np.sort(pvals)\n",
    "  k = np.arange(1, N+1)\n",
    "  fdr_threshold = (q * k) / N\n",
    "\n",
    "  # Find the last p-value that is below the FDR threshold\n",
    "  below_threshold = sorted_pvals <= fdr_threshold\n",
    "  max_index = np.max(np.where(below_threshold)) if np.any(below_threshold) else 0\n",
    "  alpha = sorted_pvals[max_index]\n",
    "\n",
    "  # Count number of p-values below threshold\n",
    "  true_discoveries = sum(below_threshold)\n",
    "  print(f\"Alpha: {alpha}\")\n",
    "  print(f\"Number of true discoveries: {true_discoveries}\")\n",
    "\n",
    "  # Optional plot\n",
    "  if plotit:\n",
    "    plt.scatter(range(N), sorted_pvals, c=np.where(sorted_pvals <= alpha, 'red', 'grey'), marker='o')\n",
    "    plt.yscale('log')\n",
    "    plt.plot(range(N), fdr_threshold, linestyle='--', color='blue')\n",
    "    plt.xlabel(\"Tests ordered by p-value\")\n",
    "    plt.ylabel(\"p-values\")\n",
    "    plt.title(f\"FDR = {q}\")\n",
    "    plt.show()\n",
    "\n",
    "  return alpha, true_discoveries"
   ]
  },
  {
   "cell_type": "markdown",
   "metadata": {},
   "source": [
    "### The q value I chose is 0.05 to ensure that we can identify features and have only 5% false positives.  "
   ]
  },
  {
   "cell_type": "code",
   "execution_count": 35,
   "metadata": {
    "colab": {
     "base_uri": "https://localhost:8080/",
     "height": 604
    },
    "id": "3EEyzk8WQKd5",
    "outputId": "2509d56a-f930-48fa-c8e7-ae3d51711d61"
   },
   "outputs": [
    {
     "name": "stdout",
     "output_type": "stream",
     "text": [
      "Alpha: 3.4500046540169186e-09\n",
      "Number of true discoveries: 25\n"
     ]
    },
    {
     "data": {
      "image/png": "[encoded data removed]",
      "text/plain": [
       "<Figure size 432x288 with 1 Axes>"
      ]
     },
     "metadata": {
      "needs_background": "light"
     },
     "output_type": "display_data"
    }
   ],
   "source": [
    "alpha_threshold = fdr(p_values, 0.05, plotit=True)"
   ]
  },
  {
   "cell_type": "markdown",
   "metadata": {},
   "source": [
    "### The p-value generated by the FDR BH-procedure is 0.000000000345, so I will be using that as my cutoff value to eliminate features for my reduced model. "
   ]
  },
  {
   "cell_type": "code",
   "execution_count": 36,
   "metadata": {
    "colab": {
     "base_uri": "https://localhost:8080/",
     "height": 367
    },
    "id": "98u2Me7-QQfd",
    "outputId": "358e165b-685b-4087-b283-8dfe6b43bf76"
   },
   "outputs": [
    {
     "name": "stdout",
     "output_type": "stream",
     "text": [
      "selected features filtered after fdr cutoff: Index(['radius_mean', 'texture_mean', 'perimeter_mean', 'area_mean',\n",
      "       'smoothness_mean', 'compactness_mean', 'concavity_mean',\n",
      "       'concave points_mean', 'symmetry_mean', 'radius_se', 'perimeter_se',\n",
      "       'area_se', 'compactness_se', 'concave points_se', 'radius_worst',\n",
      "       'texture_worst', 'perimeter_worst', 'area_worst', 'smoothness_worst',\n",
      "       'compactness_worst', 'concavity_worst', 'concave points_worst',\n",
      "       'symmetry_worst', 'fractal_dimension_worst'],\n",
      "      dtype='object')\n"
     ]
    }
   ],
   "source": [
    "reject, pvals_corrected, _, _ = multipletests(p_values, alpha=0.00000000345, method='fdr_bh')\n",
    "#pick features where null hypothesis  rejected\n",
    "selected_features = X.columns[reject]\n",
    "print(\"selected features filtered after fdr cutoff:\", selected_features)"
   ]
  },
  {
   "cell_type": "code",
   "execution_count": 37,
   "metadata": {
    "colab": {
     "base_uri": "https://localhost:8080/"
    },
    "id": "9sIdvShNRDpn",
    "outputId": "34b6adab-07bb-4ad7-dadf-c455b979152d"
   },
   "outputs": [
    {
     "data": {
      "text/plain": [
       "24"
      ]
     },
     "execution_count": 37,
     "metadata": {},
     "output_type": "execute_result"
    }
   ],
   "source": [
    "len(selected_features)"
   ]
  },
  {
   "cell_type": "code",
   "execution_count": 38,
   "metadata": {},
   "outputs": [
    {
     "data": {
      "text/plain": [
       "array([ True,  True,  True,  True,  True,  True,  True,  True,  True,\n",
       "       False,  True, False,  True,  True, False,  True, False,  True,\n",
       "       False, False,  True,  True,  True,  True,  True,  True,  True,\n",
       "        True,  True,  True])"
      ]
     },
     "execution_count": 38,
     "metadata": {},
     "output_type": "execute_result"
    }
   ],
   "source": [
    "reject"
   ]
  },
  {
   "cell_type": "markdown",
   "metadata": {},
   "source": [
    "### After the FDR, we selected 24 features for the reduced model, the selected features are - \n",
    "radius_mean', 'texture_mean', 'perimeter_mean', 'area_mean','smoothness_mean', 'compactness_mean', 'concavity_mean','concave points_mean', 'symmetry_mean', 'radius_se', 'perimeter_se','area_se', 'compactness_se', 'concave points_se', 'radius_worst','texture_worst', 'perimeter_worst', 'area_worst', 'smoothness_worst','compactness_worst', 'concavity_worst', 'concave points_worst','symmetry_worst', 'fractal_dimension_worst"
   ]
  },
  {
   "cell_type": "code",
   "execution_count": 39,
   "metadata": {
    "id": "1ToGkdqyZENS"
   },
   "outputs": [
    {
     "data": {
      "text/plain": [
       "24"
      ]
     },
     "execution_count": 39,
     "metadata": {},
     "output_type": "execute_result"
    }
   ],
   "source": [
    "# keep independent variables that are still significant after pvalues are adjusted\n",
    "reduced_var = X.columns[reject]\n",
    "len(reduced_var)"
   ]
  },
  {
   "cell_type": "code",
   "execution_count": 40,
   "metadata": {},
   "outputs": [
    {
     "data": {
      "text/plain": [
       "Index(['radius_mean', 'texture_mean', 'perimeter_mean', 'area_mean',\n",
       "       'smoothness_mean', 'compactness_mean', 'concavity_mean',\n",
       "       'concave points_mean', 'symmetry_mean', 'radius_se', 'perimeter_se',\n",
       "       'area_se', 'compactness_se', 'concave points_se', 'radius_worst',\n",
       "       'texture_worst', 'perimeter_worst', 'area_worst', 'smoothness_worst',\n",
       "       'compactness_worst', 'concavity_worst', 'concave points_worst',\n",
       "       'symmetry_worst', 'fractal_dimension_worst'],\n",
       "      dtype='object')"
      ]
     },
     "execution_count": 40,
     "metadata": {},
     "output_type": "execute_result"
    }
   ],
   "source": [
    "reduced_var"
   ]
  },
  {
   "cell_type": "markdown",
   "metadata": {},
   "source": [
    "## Model Building for the Reduced Model "
   ]
  },
  {
   "cell_type": "code",
   "execution_count": 41,
   "metadata": {
    "id": "nt2jlO9JZFq3"
   },
   "outputs": [
    {
     "name": "stdout",
     "output_type": "stream",
     "text": [
      "Optimization terminated successfully.\n",
      "         Current function value: 0.037463\n",
      "         Iterations 15\n",
      "                           Logit Regression Results                           \n",
      "==============================================================================\n",
      "Dep. Variable:              diagnosis   No. Observations:                  569\n",
      "Model:                          Logit   Df Residuals:                      544\n",
      "Method:                           MLE   Df Model:                           24\n",
      "Date:                Thu, 25 Jan 2024   Pseudo R-squ.:                  0.9433\n",
      "Time:                        23:44:45   Log-Likelihood:                -21.316\n",
      "converged:                       True   LL-Null:                       -375.72\n",
      "Covariance Type:            nonrobust   LLR p-value:                3.479e-134\n",
      "===========================================================================================\n",
      "                              coef    std err          z      P>|z|      [0.025      0.975]\n",
      "-------------------------------------------------------------------------------------------\n",
      "const                      41.4908     32.408      1.280      0.200     -22.028     105.010\n",
      "radius_mean                10.7275     12.244      0.876      0.381     -13.271      34.726\n",
      "texture_mean               -0.0564      0.330     -0.171      0.864      -0.703       0.590\n",
      "perimeter_mean             -1.1149      1.913     -0.583      0.560      -4.865       2.635\n",
      "area_mean                  -0.0017      0.073     -0.023      0.982      -0.146       0.142\n",
      "smoothness_mean            -1.5852    123.636     -0.013      0.990    -243.908     240.737\n",
      "compactness_mean          119.4187     79.504      1.502      0.133     -36.407     275.244\n",
      "concavity_mean             42.4299     59.332      0.715      0.475     -73.859     158.719\n",
      "concave points_mean      -233.2646    107.603     -2.168      0.030    -444.163     -22.366\n",
      "symmetry_mean              35.5926     40.392      0.881      0.378     -43.574     114.759\n",
      "radius_se                  -5.2851     40.892     -0.129      0.897     -85.432      74.862\n",
      "perimeter_se                2.6917      3.857      0.698      0.485      -4.867      10.251\n",
      "area_se                    -0.3532      0.327     -1.082      0.279      -0.993       0.287\n",
      "compactness_se            173.5884    118.161      1.469      0.142     -58.004     405.181\n",
      "concave points_se        -408.3536    342.542     -1.192      0.233   -1079.724     263.017\n",
      "radius_worst               -1.0302      4.057     -0.254      0.800      -8.982       6.922\n",
      "texture_worst              -0.4786      0.243     -1.968      0.049      -0.955      -0.002\n",
      "perimeter_worst            -0.2947      0.525     -0.562      0.574      -1.323       0.734\n",
      "area_worst                 -0.0075      0.038     -0.198      0.843      -0.082       0.067\n",
      "smoothness_worst          -55.0583     60.995     -0.903      0.367    -174.607      64.490\n",
      "compactness_worst         -16.2034     28.596     -0.567      0.571     -72.251      39.844\n",
      "concavity_worst           -17.5555     15.501     -1.133      0.257     -47.937      12.826\n",
      "concave points_worst       -1.6585     54.634     -0.030      0.976    -108.739     105.422\n",
      "symmetry_worst            -30.0833     17.789     -1.691      0.091     -64.948       4.782\n",
      "fractal_dimension_worst   -12.8802     76.785     -0.168      0.867    -163.375     137.615\n",
      "===========================================================================================\n",
      "\n",
      "Possibly complete quasi-separation: A fraction 0.77 of observations can be\n",
      "perfectly predicted. This might indicate that there is complete\n",
      "quasi-separation. In this case some parameters will not be identified.\n"
     ]
    }
   ],
   "source": [
    "# build the reduced model\n",
    "reduced_x = X[reduced_var]\n",
    "reduced_y = can['diagnosis']\n",
    "\n",
    "\n",
    "model5 = sm.Logit(reduced_y, sm.add_constant(reduced_x), max_iter=3000)\n",
    "result = model5.fit()\n",
    "print(result.summary())"
   ]
  },
  {
   "cell_type": "markdown",
   "metadata": {},
   "source": [
    "## K_Fold Analysis for Cross Validation"
   ]
  },
  {
   "cell_type": "code",
   "execution_count": 42,
   "metadata": {},
   "outputs": [],
   "source": [
    "# Define K for K-Fold cross-validation\n",
    "K = 10\n",
    "fold_size = len(X) // K\n",
    "# 10% data -> testing\n",
    "# 90% -> training"
   ]
  },
  {
   "cell_type": "code",
   "execution_count": 43,
   "metadata": {
    "id": "AIbST-yjZKmF"
   },
   "outputs": [],
   "source": [
    "# Initialize list to store accuracy for each fold\n",
    "accuracies_full = []\n",
    "\n",
    "# Perform K-Fold Cross-Validation\n",
    "for k in range(K):\n",
    "    # Create indices for the test set\n",
    "    test_indices = list(range(k * fold_size, (k + 1) * fold_size))\n",
    "\n",
    "    # Split the data into training and testing sets\n",
    "    # 100% data -> remove 10% of it\n",
    "    X_train_full = np.delete(np.array(X), test_indices, axis=0)\n",
    "    y_train_full = np.delete(np.array(y), test_indices, axis=0)\n",
    "    # 10% of it\n",
    "    X_test_full = np.array(X)[test_indices]\n",
    "    y_test_full = np.array(y)[test_indices]\n",
    "\n",
    "    # Initialize and train the model\n",
    "    model = LogisticRegression(max_iter=20000)\n",
    "    # train on the 90% of the data\n",
    "    model.fit(X_train_full, y_train_full)\n",
    "\n",
    "    # Make predictions and evaluate the model\n",
    "    # predict on the rest 10%\n",
    "    predictions_full = model.predict(X_test_full)\n",
    "    accuracy_full = accuracy_score(y_test_full, predictions_full)\n",
    "    accuracies_full.append(accuracy_full)\n"
   ]
  },
  {
   "cell_type": "code",
   "execution_count": 44,
   "metadata": {},
   "outputs": [
    {
     "data": {
      "text/plain": [
       "30"
      ]
     },
     "execution_count": 44,
     "metadata": {},
     "output_type": "execute_result"
    }
   ],
   "source": [
    "len(X.columns)"
   ]
  },
  {
   "cell_type": "code",
   "execution_count": 45,
   "metadata": {},
   "outputs": [
    {
     "data": {
      "text/plain": [
       "[0.875,\n",
       " 0.9464285714285714,\n",
       " 0.9464285714285714,\n",
       " 0.9821428571428571,\n",
       " 0.9642857142857143,\n",
       " 0.9642857142857143,\n",
       " 0.9642857142857143,\n",
       " 0.9642857142857143,\n",
       " 0.9285714285714286,\n",
       " 0.9642857142857143]"
      ]
     },
     "execution_count": 45,
     "metadata": {},
     "output_type": "execute_result"
    }
   ],
   "source": [
    "accuracies_full"
   ]
  },
  {
   "cell_type": "code",
   "execution_count": 46,
   "metadata": {
    "id": "YhqIaw4kZLCM"
   },
   "outputs": [
    {
     "name": "stdout",
     "output_type": "stream",
     "text": [
      "Average Accuracy: 0.95\n"
     ]
    }
   ],
   "source": [
    "# Calculate the average accuracy across all folds\n",
    "average_accuracy = np.mean(accuracies_full)\n",
    "print(\"Average Accuracy:\", average_accuracy)"
   ]
  },
  {
   "cell_type": "code",
   "execution_count": 47,
   "metadata": {},
   "outputs": [
    {
     "data": {
      "text/plain": [
       "0.735224586288416"
      ]
     },
     "execution_count": 47,
     "metadata": {},
     "output_type": "execute_result"
    }
   ],
   "source": [
    "r2_full = r2_score(y_test_full, predictions_full)\n",
    "r2_full"
   ]
  },
  {
   "cell_type": "code",
   "execution_count": 48,
   "metadata": {},
   "outputs": [
    {
     "data": {
      "text/plain": [
       "0.1889822365046136"
      ]
     },
     "execution_count": 48,
     "metadata": {},
     "output_type": "execute_result"
    }
   ],
   "source": [
    "rmse_full = np.sqrt(mean_squared_error(y_test_full, predictions_full))\n",
    "rmse_full"
   ]
  },
  {
   "cell_type": "markdown",
   "metadata": {},
   "source": [
    "## The full model has 95% Accuracy, R square of 0.73, RMSE of 0.188, we will compare that with the reduced model below. "
   ]
  },
  {
   "cell_type": "code",
   "execution_count": 63,
   "metadata": {
    "id": "AZdGpjRxZOmG"
   },
   "outputs": [],
   "source": [
    "## apply cross validation for reduced model\n",
    "# Initialize list to store accuracy for each fold\n",
    "K = 10\n",
    "fold_size_reduced = len (reduced_x) // K\n",
    "accuracies_reduced = []\n",
    "\n",
    "# Perform K-Fold Cross-Validation\n",
    "for k in range(K):\n",
    "    # Create indices for the test set\n",
    "    test_indices = list(range(k * fold_size_reduced, (k + 1) * fold_size_reduced))\n",
    "\n",
    "    # Split the data into training and testing sets\n",
    "    # 100% data -> remove 10% of it\n",
    "    X_train_reduced = np.delete(np.array(reduced_x), test_indices, axis=0)\n",
    "    y_train_reduced = np.delete(np.array(reduced_y), test_indices, axis=0)\n",
    "    # 10% of it\n",
    "    X_test_reduced = np.array(reduced_x)[test_indices]\n",
    "    y_test_reduced = np.array(reduced_y)[test_indices]\n",
    "\n",
    "    # Initialize and train the model\n",
    "    reducedmodel = LogisticRegression(max_iter=20000)\n",
    "    # train on the 90% of the data\n",
    "    reducedmodel.fit(X_train_reduced, y_train_reduced)\n",
    "\n",
    "    # Make predictions and evaluate the model\n",
    "    # predict on the rest 10%\n",
    "    predictions_reduced = reducedmodel.predict(X_test_reduced)\n",
    "    accuracy_reduced = accuracy_score(y_test_reduced, predictions_reduced)\n",
    "    accuracies_reduced.append(accuracy_reduced)\n"
   ]
  },
  {
   "cell_type": "code",
   "execution_count": 54,
   "metadata": {},
   "outputs": [
    {
     "data": {
      "text/plain": [
       "24"
      ]
     },
     "execution_count": 54,
     "metadata": {},
     "output_type": "execute_result"
    }
   ],
   "source": [
    "len(reduced_x.columns)"
   ]
  },
  {
   "cell_type": "code",
   "execution_count": 55,
   "metadata": {},
   "outputs": [
    {
     "data": {
      "text/plain": [
       "[0.875,\n",
       " 0.9642857142857143,\n",
       " 0.9464285714285714,\n",
       " 0.9821428571428571,\n",
       " 0.9642857142857143,\n",
       " 0.9642857142857143,\n",
       " 0.9464285714285714,\n",
       " 0.9642857142857143,\n",
       " 0.9285714285714286,\n",
       " 0.9642857142857143]"
      ]
     },
     "execution_count": 55,
     "metadata": {},
     "output_type": "execute_result"
    }
   ],
   "source": [
    "accuracies_reduced"
   ]
  },
  {
   "cell_type": "code",
   "execution_count": 58,
   "metadata": {
    "id": "SSl2x3bDZSrn"
   },
   "outputs": [
    {
     "name": "stdout",
     "output_type": "stream",
     "text": [
      "Average accuracy in reduced model: 0.9642857142857142\n"
     ]
    }
   ],
   "source": [
    "# Calculate the average accuracy across all folds\n",
    "average_accuracy_red = np.mean(accuracies_reduced)\n",
    "print(\"Average accuracy in reduced model:\", average_accuracy_red)"
   ]
  },
  {
   "cell_type": "markdown",
   "metadata": {},
   "source": [
    "## Interpetation: After analyzing both the models, full model with all the variables has 0.95 and reduced model with 24 features selected after the FDR analysis has 0.96 accuracy. My accuracy rate of both model is very close to each other, this could be due to feature redunduncy which might be an issue. The feature selection must have not been effective in excluding unnessecary predictors. I think the model would benefit by regularization. \n",
    "\n",
    "\n",
    "## In general, if a full model performs better than the reduced model that therotically means that the reduced model is underfitting and if a reduced model is better than we have a lot of insignificant variables. "
   ]
  },
  {
   "cell_type": "markdown",
   "metadata": {},
   "source": [
    "## As both the models have similar out-of-sample accuracy rate, it is showing that reduced model is performing at similar level so we can choose reduced model since it has fewer features and is parsimonic model. \n",
    "\n",
    "## In conclusion, reduced model maybe our better choice for prediction for the classification of the tumors due to higher accuracy rate, it would help if we further investigate the model to gain better results. "
   ]
  }
 ],
 "metadata": {
  "colab": {
   "provenance": []
  },
  "kernelspec": {
   "display_name": "Python 3",
   "language": "python",
   "name": "python3"
  },
  "language_info": {
   "codemirror_mode": {
    "name": "ipython",
    "version": 3
   },
   "file_extension": ".py",
   "mimetype": "text/x-python",
   "name": "python",
   "nbconvert_exporter": "python",
   "pygments_lexer": "ipython3",
   "version": "3.8.8"
  }
 },
 "nbformat": 4,
 "nbformat_minor": 1
}
